{
 "cells": [
  {
   "cell_type": "code",
   "execution_count": 12,
   "metadata": {},
   "outputs": [],
   "source": [
    "class WatchdogEvent():\n",
    "    \"\"\"Class representing the last event.\"\"\"\n",
    "    def __init__(self):\n",
    "        data = {\n",
    "            \"time\": None,\n",
    "            \"event\": None,\n",
    "            \"full_path\": None,\n",
    "            \"file\": None\n",
    "            }\n",
    "        self._data = data\n",
    "\n",
    "    def update(self, data):\n",
    "        \"\"\"Update with recent data.\"\"\"\n",
    "        self._data = data  \n",
    "    \n",
    "    @property\n",
    "    def data(self):\n",
    "        \"\"\"Return the last event.\"\"\"\n",
    "        return self._data"
   ]
  },
  {
   "cell_type": "code",
   "execution_count": 13,
   "metadata": {},
   "outputs": [],
   "source": [
    "my_event = WatchdogEvent()"
   ]
  },
  {
   "cell_type": "code",
   "execution_count": 14,
   "metadata": {},
   "outputs": [],
   "source": [
    "data = {\n",
    "    \"time\": \"a\",\n",
    "    \"event\": \"b\",\n",
    "    \"full_path\": \"c\",\n",
    "    \"file\": \"d\"\n",
    "    }\n",
    "my_event.update(data)"
   ]
  },
  {
   "cell_type": "code",
   "execution_count": 16,
   "metadata": {},
   "outputs": [
    {
     "data": {
      "text/plain": [
       "{'event': 'b', 'file': 'd', 'full_path': 'c', 'time': 'a'}"
      ]
     },
     "execution_count": 16,
     "metadata": {},
     "output_type": "execute_result"
    }
   ],
   "source": [
    "my_event.data"
   ]
  },
  {
   "cell_type": "code",
   "execution_count": null,
   "metadata": {},
   "outputs": [],
   "source": []
  }
 ],
 "metadata": {
  "kernelspec": {
   "display_name": "Python 3",
   "language": "python",
   "name": "python3"
  },
  "language_info": {
   "codemirror_mode": {
    "name": "ipython",
    "version": 3
   },
   "file_extension": ".py",
   "mimetype": "text/x-python",
   "name": "python",
   "nbconvert_exporter": "python",
   "pygments_lexer": "ipython3",
   "version": "3.6.3"
  }
 },
 "nbformat": 4,
 "nbformat_minor": 2
}
