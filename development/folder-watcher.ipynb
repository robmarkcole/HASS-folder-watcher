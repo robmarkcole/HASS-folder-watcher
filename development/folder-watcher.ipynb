{
 "cells": [
  {
   "cell_type": "code",
   "execution_count": 1,
   "metadata": {},
   "outputs": [
    {
     "data": {
      "text/plain": [
       "'/Users/robincole/Documents/Github/HASS-folder-watcher/development'"
      ]
     },
     "execution_count": 1,
     "metadata": {},
     "output_type": "execute_result"
    }
   ],
   "source": [
    "pwd"
   ]
  },
  {
   "cell_type": "code",
   "execution_count": 2,
   "metadata": {},
   "outputs": [],
   "source": [
    "import datetime\n",
    "import os"
   ]
  },
  {
   "cell_type": "code",
   "execution_count": 4,
   "metadata": {},
   "outputs": [],
   "source": [
    "path = 'dummy_folder'"
   ]
  },
  {
   "cell_type": "code",
   "execution_count": 3,
   "metadata": {},
   "outputs": [],
   "source": [
    "def get_timestamp(dir_entry):\n",
    "    \"\"\"Return the timestamp of file modification.\"\"\"\n",
    "    mtime = dir_entry.stat().st_mtime\n",
    "    return datetime.datetime.fromtimestamp(mtime).isoformat()"
   ]
  },
  {
   "cell_type": "code",
   "execution_count": 14,
   "metadata": {},
   "outputs": [],
   "source": [
    "def get_files(path):\n",
    "    \"\"\"Return the dict of files and timestamps.\"\"\"\n",
    "    files = {}\n",
    "    with os.scandir(path) as it:\n",
    "        for entry in it:\n",
    "            if not entry.name.startswith('.') and entry.is_file():\n",
    "                files[entry.name]= get_timestamp(entry)\n",
    "    return files"
   ]
  },
  {
   "cell_type": "code",
   "execution_count": 5,
   "metadata": {},
   "outputs": [],
   "source": [
    "files = {}"
   ]
  },
  {
   "cell_type": "markdown",
   "metadata": {},
   "source": [
    "The following is the update method"
   ]
  },
  {
   "cell_type": "code",
   "execution_count": 18,
   "metadata": {},
   "outputs": [],
   "source": [
    "# Original\n",
    "current_files = [] \n",
    "deleted_files = []\n",
    "added_files = []\n",
    "modified_files = []\n",
    "previous_files = list(files.keys())\n",
    "\n",
    "with os.scandir(path) as it:\n",
    "    for entry in it:\n",
    "        if not entry.name.startswith('.') and entry.is_file():\n",
    "            file_name = entry.name\n",
    "            current_files.append(file_name)  # Keep record of current files\n",
    "            file_mtime = get_timestamp(entry)\n",
    "            \n",
    "            # Logic to process files\n",
    "            if not file_name in files:\n",
    "                added_files.append(file_name)\n",
    "                # print(\"{} added\".format(file_name))\n",
    "                files[file_name] = file_mtime # Add the entry\n",
    "                \n",
    "            elif file_name in files and files[file_name] != file_mtime: # If exists and modified\n",
    "                modified_files.append(file_name)\n",
    "                # print(\"{} modified\".format(file_name))\n",
    "                files[file_name] = file_mtime # Reassign\n",
    "                \n",
    "\n",
    "# Check if any files deleted                \n",
    "deleted_files = list(set(previous_files) - set(current_files))\n",
    "for file_name in deleted_files:\n",
    "    # print(\"{} deleted\".format(file_name))\n",
    "    files.pop(file_name, None)"
   ]
  },
  {
   "cell_type": "code",
   "execution_count": 21,
   "metadata": {},
   "outputs": [
    {
     "data": {
      "text/plain": [
       "{'file1.txt': '2018-02-28T09:05:14.348702',\n",
       " 'file2.txt': '2018-02-28T09:15:36.982517'}"
      ]
     },
     "execution_count": 21,
     "metadata": {},
     "output_type": "execute_result"
    }
   ],
   "source": [
    "original_files = get_files(path)\n",
    "original_files"
   ]
  },
  {
   "cell_type": "code",
   "execution_count": 23,
   "metadata": {},
   "outputs": [
    {
     "data": {
      "text/plain": [
       "['file2.txt', 'file1.txt']"
      ]
     },
     "execution_count": 23,
     "metadata": {},
     "output_type": "execute_result"
    }
   ],
   "source": [
    "list(original_files.keys())"
   ]
  },
  {
   "cell_type": "markdown",
   "metadata": {},
   "source": [
    "## Class implementation"
   ]
  },
  {
   "cell_type": "code",
   "execution_count": 33,
   "metadata": {},
   "outputs": [],
   "source": [
    "\"\"\"The dict self._files is updated and events published on changes to the dict.\"\"\"\n",
    "\n",
    "class Watcher():\n",
    "    def __init__(self, path):\n",
    "        self._path = path\n",
    "        self._updated = False\n",
    "        self._files = get_files(self._path)\n",
    "\n",
    "    def update(self):\n",
    "        \"\"\"Update the watcher.\"\"\"\n",
    "        current_files = []\n",
    "        deleted_files = []\n",
    "        added_files = []\n",
    "        modified_files = []\n",
    "        previous_files = list(self._files.keys())\n",
    "        \n",
    "        with os.scandir(self._path) as it:\n",
    "            for entry in it:\n",
    "                if not entry.name.startswith('.') and entry.is_file(): \n",
    "                    file_mtime = get_timestamp(entry)\n",
    "                    file_name = entry.name\n",
    "                    current_files.append(file_name)  # Keep record of current files   \n",
    "            \n",
    "                    if not file_name in self._files:\n",
    "                        added_files.append(file_name)\n",
    "                        print(\"{} added\".format(file_name))\n",
    "                        self._files[file_name] = file_mtime # Add the entry\n",
    "                \n",
    "                    elif file_name in self._files and self._files[file_name] != file_mtime: # If exists and modified\n",
    "                        modified_files.append(file_name)\n",
    "                        print(\"{} modified\".format(file_name))\n",
    "                        self._files[file_name] = file_mtime # Update timestamp\n",
    "\n",
    "            # Check if any files deleted                \n",
    "            deleted_files = list(set(previous_files) - set(current_files))\n",
    "            for file_name in deleted_files:\n",
    "                print(\"{} deleted\".format(file_name))\n",
    "                self._files.pop(file_name, None) # Delete the entry"
   ]
  },
  {
   "cell_type": "code",
   "execution_count": 34,
   "metadata": {},
   "outputs": [],
   "source": [
    "my_watcher = Watcher(path)"
   ]
  },
  {
   "cell_type": "code",
   "execution_count": 35,
   "metadata": {},
   "outputs": [],
   "source": [
    "my_watcher.update()"
   ]
  },
  {
   "cell_type": "code",
   "execution_count": 36,
   "metadata": {},
   "outputs": [
    {
     "name": "stdout",
     "output_type": "stream",
     "text": [
      "file2.txt modified\n"
     ]
    }
   ],
   "source": [
    "my_watcher.update()"
   ]
  },
  {
   "cell_type": "code",
   "execution_count": 37,
   "metadata": {},
   "outputs": [
    {
     "name": "stdout",
     "output_type": "stream",
     "text": [
      "file1 copy.txt added\n"
     ]
    }
   ],
   "source": [
    "my_watcher.update()"
   ]
  },
  {
   "cell_type": "code",
   "execution_count": 38,
   "metadata": {},
   "outputs": [
    {
     "name": "stdout",
     "output_type": "stream",
     "text": [
      "file1 copy.txt deleted\n"
     ]
    }
   ],
   "source": [
    "my_watcher.update()"
   ]
  },
  {
   "cell_type": "code",
   "execution_count": null,
   "metadata": {},
   "outputs": [],
   "source": []
  }
 ],
 "metadata": {
  "kernelspec": {
   "display_name": "Python 3",
   "language": "python",
   "name": "python3"
  },
  "language_info": {
   "codemirror_mode": {
    "name": "ipython",
    "version": 3
   },
   "file_extension": ".py",
   "mimetype": "text/x-python",
   "name": "python",
   "nbconvert_exporter": "python",
   "pygments_lexer": "ipython3",
   "version": "3.6.3"
  }
 },
 "nbformat": 4,
 "nbformat_minor": 2
}
